{
 "cells": [
  {
   "cell_type": "code",
   "execution_count": 1,
   "metadata": {},
   "outputs": [],
   "source": [
    "import pandas as pd\n",
    "import seaborn as sns\n",
    "from scipy import stats\n",
    "\n",
    "# import folium\n",
    "import numpy as np\n",
    "import s3fs\n",
    "import sys\n",
    "import numpy as np\n",
    "import time\n",
    "import re\n",
    "import pandas as pd\n",
    "from collections import namedtuple\n",
    "import dask.dataframe as dd\n",
    "from tabulate import tabulate"
   ]
  },
  {
   "cell_type": "code",
   "execution_count": 2,
   "metadata": {},
   "outputs": [],
   "source": [
    "from EDA import EDA"
   ]
  },
  {
   "cell_type": "code",
   "execution_count": 3,
   "metadata": {},
   "outputs": [
    {
     "data": {
      "text/plain": [
       "(14759, 327)"
      ]
     },
     "execution_count": 3,
     "metadata": {},
     "output_type": "execute_result"
    }
   ],
   "source": [
    "path_ = 's3://metblue-working/Sentry-Rules-Dataset/fact_and_claim_filtered_by_med/part-00000-5d56cd96-c165-4e2a-bba6-9a1618355511-c000.csv'\n",
    "eda = EDA()\n",
    "data = eda.read_table(path_)\n",
    "data.shape"
   ]
  },
  {
   "cell_type": "code",
   "execution_count": 4,
   "metadata": {},
   "outputs": [
    {
     "data": {
      "text/plain": [
       "Index(['SFX_TRAN_DAY_ID', 'CLM_DIM_ID', 'TRAN_DIM_ID', 'POL_SLCT_DIM_ID',\n",
       "       'CLM_OFC_DSK_DIM_ID', 'CLM_CRCT_DIM_ID', 'CLMNT_DIM_ID', 'LOSS_DAY_ID',\n",
       "       'CLM_CRT_DAY_ID', 'VEH_DIM_ID',\n",
       "       ...\n",
       "       'CHRL_TOT_CLS_DT', 'CHRL_VEH_RLS_DT', 'CUR_CHRL_EST_RECD_DT',\n",
       "       'CUR_CHRL_INSP_DT', 'CUR_CHRL_INSP_RSLT_ENT_DT',\n",
       "       'CUR_CHRL_PLC_RSPND_DT', 'WIND_HAIL_XCL_IND',\n",
       "       'CUR_CHRL_INSD_ADJ_CLM_OFC_CD', 'CUR_RNT_CSH_OUT_IND',\n",
       "       'Folder_Year_CLMDIM'],\n",
       "      dtype='object', length=327)"
      ]
     },
     "execution_count": 4,
     "metadata": {},
     "output_type": "execute_result"
    }
   ],
   "source": [
    "data.columns"
   ]
  },
  {
   "cell_type": "code",
   "execution_count": 5,
   "metadata": {},
   "outputs": [
    {
     "name": "stdout",
     "output_type": "stream",
     "text": [
      "1 . Number of rows : 14759 \n",
      "\n",
      "\n",
      "2 . Number of columns : 327 \n",
      "\n",
      "\n",
      "3 . Data Type Frequency: \n",
      "\n",
      "╒════╤═════════════╤═════════╕\n",
      "│    │ Data Type   │   Count │\n",
      "╞════╪═════════════╪═════════╡\n",
      "│  0 │ object      │     327 │\n",
      "╘════╧═════════════╧═════════╛\n",
      "\n",
      "\n",
      "4 . All columns are not in lower case -------> Making it into lower case\n",
      "\n",
      "\n",
      "5 . All column names are trimmed\n",
      "\n",
      "\n",
      "6. Checking for special characters in column names : \n",
      "\n",
      "\n",
      "\t None of the column names contain special characters\n",
      "\n",
      "\n"
     ]
    }
   ],
   "source": [
    "data = eda.data_check(data)"
   ]
  },
  {
   "cell_type": "code",
   "execution_count": 6,
   "metadata": {},
   "outputs": [
    {
     "name": "stdout",
     "output_type": "stream",
     "text": [
      "All column names are trimmed\n",
      "\n",
      "\n"
     ]
    },
    {
     "data": {
      "text/plain": [
       "Index(['sfx_tran_day_id', 'clm_dim_id', 'tran_dim_id', 'pol_slct_dim_id',\n",
       "       'clm_ofc_dsk_dim_id', 'clm_crct_dim_id', 'clmnt_dim_id', 'loss_day_id',\n",
       "       'clm_crt_day_id', 'veh_dim_id',\n",
       "       ...\n",
       "       'chrl_tot_cls_dt', 'chrl_veh_rls_dt', 'cur_chrl_est_recd_dt',\n",
       "       'cur_chrl_insp_dt', 'cur_chrl_insp_rslt_ent_dt',\n",
       "       'cur_chrl_plc_rspnd_dt', 'wind_hail_xcl_ind',\n",
       "       'cur_chrl_insd_adj_clm_ofc_cd', 'cur_rnt_csh_out_ind',\n",
       "       'folder_year_clmdim'],\n",
       "      dtype='object', length=327)"
      ]
     },
     "execution_count": 6,
     "metadata": {},
     "output_type": "execute_result"
    }
   ],
   "source": [
    "data2 = eda.trim(data)\n",
    "data2.columns"
   ]
  },
  {
   "cell_type": "code",
   "execution_count": 7,
   "metadata": {},
   "outputs": [
    {
     "name": "stdout",
     "output_type": "stream",
     "text": [
      "\t None of the column names contain special characters\n",
      "\n",
      "\n",
      "\t Data has been returned after eliminating special characters from columns\n",
      "\n",
      "\n"
     ]
    },
    {
     "data": {
      "text/plain": [
       "Index(['sfx_tran_day_id', 'clm_dim_id', 'tran_dim_id', 'pol_slct_dim_id',\n",
       "       'clm_ofc_dsk_dim_id', 'clm_crct_dim_id', 'clmnt_dim_id', 'loss_day_id',\n",
       "       'clm_crt_day_id', 'veh_dim_id',\n",
       "       ...\n",
       "       'chrl_tot_cls_dt', 'chrl_veh_rls_dt', 'cur_chrl_est_recd_dt',\n",
       "       'cur_chrl_insp_dt', 'cur_chrl_insp_rslt_ent_dt',\n",
       "       'cur_chrl_plc_rspnd_dt', 'wind_hail_xcl_ind',\n",
       "       'cur_chrl_insd_adj_clm_ofc_cd', 'cur_rnt_csh_out_ind',\n",
       "       'folder_year_clmdim'],\n",
       "      dtype='object', length=327)"
      ]
     },
     "execution_count": 7,
     "metadata": {},
     "output_type": "execute_result"
    }
   ],
   "source": [
    "data3 = eda.special_char(data2 , '_')\n",
    "data3.columns"
   ]
  },
  {
   "cell_type": "code",
   "execution_count": 8,
   "metadata": {},
   "outputs": [
    {
     "name": "stdout",
     "output_type": "stream",
     "text": [
      "1 . Unique Count ( Primary Key ) :  2645\n",
      "\n",
      "\n",
      "2 . Duplicate Primary Key is present\n",
      "\n",
      "\n",
      "3 . Primary Key does not have missing values\n",
      "\n",
      "\n",
      "4 . Frequency table of Primary Key length\n",
      "╒══════════════╤═════════╕\n",
      "│   KEY Length │   Count │\n",
      "╞══════════════╪═════════╡\n",
      "│            4 │   11998 │\n",
      "├──────────────┼─────────┤\n",
      "│            5 │    2761 │\n",
      "╘══════════════╧═════════╛\n",
      "\n",
      "\n"
     ]
    }
   ],
   "source": [
    "eda.primary_key_check(data3 , 'sfx_tran_day_id')"
   ]
  },
  {
   "cell_type": "code",
   "execution_count": 13,
   "metadata": {
    "scrolled": true
   },
   "outputs": [],
   "source": [
    "# eda.target_check(data3 ,'FRAUD_IND' )"
   ]
  },
  {
   "cell_type": "code",
   "execution_count": 14,
   "metadata": {},
   "outputs": [
    {
     "data": {
      "text/plain": [
       "(265, 53)"
      ]
     },
     "execution_count": 14,
     "metadata": {},
     "output_type": "execute_result"
    }
   ],
   "source": [
    "data3.shape"
   ]
  },
  {
   "cell_type": "code",
   "execution_count": 15,
   "metadata": {},
   "outputs": [
    {
     "name": "stdout",
     "output_type": "stream",
     "text": [
      "Duplicate rows are not present in full data\n",
      "\tNumber of duplicate rows : 0  \n",
      "\n",
      "\t Duplicate rows are present on the basis of  ['sfx_tran_day_id']\n",
      "\t Number of duplicate rows : 14556  \n",
      "\n",
      "\n",
      "\n"
     ]
    }
   ],
   "source": [
    "eda.duplicate_check(data3,['sfx_tran_day_id'])"
   ]
  },
  {
   "cell_type": "code",
   "execution_count": null,
   "metadata": {},
   "outputs": [],
   "source": []
  }
 ],
 "metadata": {
  "kernelspec": {
   "display_name": "Python 3",
   "language": "python",
   "name": "python3"
  },
  "language_info": {
   "codemirror_mode": {
    "name": "ipython",
    "version": 3
   },
   "file_extension": ".py",
   "mimetype": "text/x-python",
   "name": "python",
   "nbconvert_exporter": "python",
   "pygments_lexer": "ipython3",
   "version": "3.7.1"
  }
 },
 "nbformat": 4,
 "nbformat_minor": 2
}
